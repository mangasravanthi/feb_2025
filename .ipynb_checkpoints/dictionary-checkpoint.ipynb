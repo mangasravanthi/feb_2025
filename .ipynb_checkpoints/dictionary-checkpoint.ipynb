{
 "cells": [
  {
   "cell_type": "code",
   "execution_count": 35,
   "id": "37bf30bf-6158-4e25-a562-ae995b350378",
   "metadata": {},
   "outputs": [
    {
     "name": "stdout",
     "output_type": "stream",
     "text": [
      " ramesh age is 20\n",
      " suresh age is 30\n",
      " sathish age is 40\n"
     ]
    }
   ],
   "source": [
    "l1=['ramesh','suresh','sathish']\n",
    "l2=[20,30,40]\n",
    "for i in range(len(l1)):\n",
    "    print(f' {l1[i]} age is {l2[i]}')"
   ]
  },
  {
   "cell_type": "code",
   "execution_count": null,
   "id": "932b03a7-ad92-47a9-bd1b-2921d5478d2b",
   "metadata": {},
   "outputs": [],
   "source": [
    "- python is impornt \n",
    "- in that dict is very imp\n"
   ]
  },
  {
   "cell_type": "markdown",
   "id": "a69ee474-96ac-4207-84ef-909aef58d8b0",
   "metadata": {},
   "source": [
    "$zip$"
   ]
  },
  {
   "cell_type": "code",
   "execution_count": 37,
   "id": "105a36fb-e84f-43ef-a352-03341a68836c",
   "metadata": {},
   "outputs": [
    {
     "name": "stdout",
     "output_type": "stream",
     "text": [
      "the ramesh age is 20\n",
      "the suresh age is 30\n",
      "the sathish age is 40\n"
     ]
    }
   ],
   "source": [
    "l1=['ramesh','suresh','sathish']\n",
    "l2=[20,30,40]\n",
    "for i,j in zip(l1,l2):\n",
    "    print(f'the {i} age is {j}')"
   ]
  },
  {
   "cell_type": "code",
   "execution_count": 39,
   "id": "b1a84fd4-01e2-40b5-a45b-46138aac3fdc",
   "metadata": {},
   "outputs": [
    {
     "name": "stdout",
     "output_type": "stream",
     "text": [
      "the ramesh age is 20 he is from hyd\n",
      "the suresh age is 30 he is from chen\n",
      "the sathish age is 40 he is from mum\n"
     ]
    }
   ],
   "source": [
    "l1=['ramesh','suresh','sathish']\n",
    "l2=[20,30,40]\n",
    "l3=['hyd','chen','mum']\n",
    "for i,j,k in zip(l1,l2,l3):\n",
    "    print(f'the {i} age is {j} he is from {k}')"
   ]
  },
  {
   "cell_type": "markdown",
   "id": "fba9eb09-84d5-410b-a66f-f8fe02c7946b",
   "metadata": {},
   "source": [
    "**dictionary**\n",
    "- string  rep in qoutes\n",
    "- list rep in sq brackets\n",
    "- tuple rep in paranthesis\n",
    "- set rep in curly braces with only one value\n",
    "- dict rep in curly braces with 2 values\n",
    "- dict  has key:value pair\n",
    "- dict elemnts are in pair \n",
    "    - one elemnt called as **key**\n",
    "    - another elem called as **val**"
   ]
  },
  {
   "cell_type": "code",
   "execution_count": 41,
   "id": "9ad2a84c-6107-45e0-bfbd-bda47272103b",
   "metadata": {},
   "outputs": [
    {
     "data": {
      "text/plain": [
       "{'ramesh': 20, 'suresh': 30, 'sathis': 40}"
      ]
     },
     "execution_count": 41,
     "metadata": {},
     "output_type": "execute_result"
    }
   ],
   "source": [
    "dict1={'ramesh':20,'suresh':30,'sathis':40}\n",
    "dict1"
   ]
  },
  {
   "cell_type": "code",
   "execution_count": 43,
   "id": "38002e7d-44d5-4949-8437-155703e5450c",
   "metadata": {},
   "outputs": [
    {
     "data": {
      "text/plain": [
       "dict"
      ]
     },
     "execution_count": 43,
     "metadata": {},
     "output_type": "execute_result"
    }
   ],
   "source": [
    "type(dict1)"
   ]
  },
  {
   "cell_type": "markdown",
   "id": "eed27d5f-4735-4b47-88cd-0da24f53e609",
   "metadata": {},
   "source": [
    "**intialization**"
   ]
  },
  {
   "cell_type": "code",
   "execution_count": 45,
   "id": "58e20da5-0a2b-4b00-b498-efcc266bbb86",
   "metadata": {},
   "outputs": [],
   "source": [
    "dict1={'ramesh':20,'suresh':30,'sathis':40}\n",
    "# key int val string\n",
    "# key str val  list vice versa"
   ]
  },
  {
   "cell_type": "code",
   "execution_count": 47,
   "id": "e1a511e3-a2ca-42e4-a183-0d80588a4ac9",
   "metadata": {},
   "outputs": [
    {
     "data": {
      "text/plain": [
       "{20: 'ram', 30: 'sur', 40: 'vig'}"
      ]
     },
     "execution_count": 47,
     "metadata": {},
     "output_type": "execute_result"
    }
   ],
   "source": [
    "d1={20:'ram',30:'sur',40:'vig'}\n",
    "d1"
   ]
  },
  {
   "cell_type": "code",
   "execution_count": 49,
   "id": "a5eb59b3-2107-4f39-8900-b82b871cff38",
   "metadata": {},
   "outputs": [
    {
     "data": {
      "text/plain": [
       "{'app': [10, 20], 'bana': [10, 40]}"
      ]
     },
     "execution_count": 49,
     "metadata": {},
     "output_type": "execute_result"
    }
   ],
   "source": [
    "d2={'app':[10,20],'bana':[10,40]}\n",
    "d2\n",
    "# list can be val"
   ]
  },
  {
   "cell_type": "code",
   "execution_count": 51,
   "id": "259e15a6-ec7d-46eb-b108-9d7cdeb284ab",
   "metadata": {},
   "outputs": [
    {
     "ename": "TypeError",
     "evalue": "unhashable type: 'list'",
     "output_type": "error",
     "traceback": [
      "\u001b[1;31m---------------------------------------------------------------------------\u001b[0m",
      "\u001b[1;31mTypeError\u001b[0m                                 Traceback (most recent call last)",
      "Cell \u001b[1;32mIn[51], line 1\u001b[0m\n\u001b[1;32m----> 1\u001b[0m d3\u001b[38;5;241m=\u001b[39m{[\u001b[38;5;241m10\u001b[39m,\u001b[38;5;241m20\u001b[39m]:\u001b[38;5;124m'\u001b[39m\u001b[38;5;124mapp\u001b[39m\u001b[38;5;124m'\u001b[39m,[\u001b[38;5;241m10\u001b[39m,\u001b[38;5;241m40\u001b[39m]:\u001b[38;5;124m'\u001b[39m\u001b[38;5;124mbana\u001b[39m\u001b[38;5;124m'\u001b[39m}\n\u001b[0;32m      2\u001b[0m d3\n",
      "\u001b[1;31mTypeError\u001b[0m: unhashable type: 'list'"
     ]
    }
   ],
   "source": [
    "d3={[10,20]:'app',[10,40]:'bana'}\n",
    "d3\n",
    "# keys cannot be list"
   ]
  },
  {
   "cell_type": "code",
   "execution_count": 53,
   "id": "5714968e-a9fb-4ac1-a7cb-1ce68fcdd3e6",
   "metadata": {},
   "outputs": [
    {
     "data": {
      "text/plain": [
       "{'10': '20', '30': 60}"
      ]
     },
     "execution_count": 53,
     "metadata": {},
     "output_type": "execute_result"
    }
   ],
   "source": [
    "d4={'10':'20','30':60}\n",
    "d4"
   ]
  },
  {
   "cell_type": "code",
   "execution_count": 55,
   "id": "7648d9e0-95a1-45e2-9bd2-ac0bc3cecbc8",
   "metadata": {},
   "outputs": [
    {
     "data": {
      "text/plain": [
       "{True: '0.5', '2': False}"
      ]
     },
     "execution_count": 55,
     "metadata": {},
     "output_type": "execute_result"
    }
   ],
   "source": [
    "d5={True:'0.5','2':False}\n",
    "d5"
   ]
  },
  {
   "cell_type": "code",
   "execution_count": 57,
   "id": "71797b8b-8fac-4521-a025-60dcb8a5eeed",
   "metadata": {},
   "outputs": [
    {
     "data": {
      "text/plain": [
       "{(10, 20): [30, 40], (40, 60): ['70', '60']}"
      ]
     },
     "execution_count": 57,
     "metadata": {},
     "output_type": "execute_result"
    }
   ],
   "source": [
    "d6={(10,20):[30,40],(40,60):['70','60']}\n",
    "d6\n",
    "# tuple is working "
   ]
  },
  {
   "cell_type": "markdown",
   "id": "749474bf-17cd-49b3-a539-e8ad6b5b22aa",
   "metadata": {},
   "source": [
    "**imp interview qn**\n",
    "- list is mutable\n",
    "- tuple is immutable\n",
    "- so list cannot be a key\n",
    "- **keys are imp**"
   ]
  },
  {
   "cell_type": "code",
   "execution_count": 59,
   "id": "c0bdcbba-e87b-43ee-8113-8c665938c66d",
   "metadata": {},
   "outputs": [
    {
     "data": {
      "text/plain": [
       "{'fruites': {10}}"
      ]
     },
     "execution_count": 59,
     "metadata": {},
     "output_type": "execute_result"
    }
   ],
   "source": [
    "d6={'fruites':{10}}\n",
    "d6"
   ]
  },
  {
   "cell_type": "code",
   "execution_count": 61,
   "id": "b40daeb3-2183-4beb-8f14-14362067d521",
   "metadata": {},
   "outputs": [
    {
     "ename": "TypeError",
     "evalue": "unhashable type: 'dict'",
     "output_type": "error",
     "traceback": [
      "\u001b[1;31m---------------------------------------------------------------------------\u001b[0m",
      "\u001b[1;31mTypeError\u001b[0m                                 Traceback (most recent call last)",
      "Cell \u001b[1;32mIn[61], line 1\u001b[0m\n\u001b[1;32m----> 1\u001b[0m d\u001b[38;5;241m=\u001b[39m{{\u001b[38;5;124m'\u001b[39m\u001b[38;5;124mfruites\u001b[39m\u001b[38;5;124m'\u001b[39m:\u001b[38;5;241m50\u001b[39m}:\u001b[38;5;241m10\u001b[39m}\n\u001b[0;32m      2\u001b[0m d6\n",
      "\u001b[1;31mTypeError\u001b[0m: unhashable type: 'dict'"
     ]
    }
   ],
   "source": [
    "d={{'fruites':50}:10}\n",
    "d6"
   ]
  },
  {
   "cell_type": "code",
   "execution_count": 63,
   "id": "c3c6510d-9a13-419b-9d86-0886a720fe16",
   "metadata": {},
   "outputs": [
    {
     "data": {
      "text/plain": [
       "{10.6: 3, 4: 6.8, (2+3j): 4}"
      ]
     },
     "execution_count": 63,
     "metadata": {},
     "output_type": "execute_result"
    }
   ],
   "source": [
    "d7={10.6:3,4:6.8,2+3j:4}\n",
    "d7"
   ]
  },
  {
   "cell_type": "code",
   "execution_count": 65,
   "id": "d16e6e8e-947c-44f6-84c0-fa12f7dad00f",
   "metadata": {},
   "outputs": [
    {
     "data": {
      "text/plain": [
       "{'ramesh': 30}"
      ]
     },
     "execution_count": 65,
     "metadata": {},
     "output_type": "execute_result"
    }
   ],
   "source": [
    "d8={'ramesh':20,'ramesh':30}\n",
    "d8\n",
    "# keys are imp\n",
    "# when same keys but diff val\n",
    "# it will take latest val"
   ]
  },
  {
   "cell_type": "code",
   "execution_count": 67,
   "id": "f6ad74bc-edf6-43d4-9e0c-59378e95e2c7",
   "metadata": {},
   "outputs": [
    {
     "data": {
      "text/plain": [
       "{'ramesh': 20, 'suresh': 20}"
      ]
     },
     "execution_count": 67,
     "metadata": {},
     "output_type": "execute_result"
    }
   ],
   "source": [
    "d9={'ramesh':20,'suresh':20}\n",
    "d9"
   ]
  },
  {
   "cell_type": "code",
   "execution_count": 69,
   "id": "ed4d2cd6-dd8b-43fe-9654-96e38e9e1187",
   "metadata": {},
   "outputs": [
    {
     "data": {
      "text/plain": [
       "{'ramesh': 20}"
      ]
     },
     "execution_count": 69,
     "metadata": {},
     "output_type": "execute_result"
    }
   ],
   "source": [
    "d10={'ramesh':20,'ramesh':20}\n",
    "d10\n",
    "# duplicates are not allowed"
   ]
  },
  {
   "cell_type": "code",
   "execution_count": 71,
   "id": "aa2a4a6d-425b-4a4e-897a-99b97480bd6d",
   "metadata": {},
   "outputs": [
    {
     "data": {
      "text/plain": [
       "{'ramesh': 20, 'suresh': 30, 'sathish': 40}"
      ]
     },
     "execution_count": 71,
     "metadata": {},
     "output_type": "execute_result"
    }
   ],
   "source": [
    "dict1={'ramesh':20,'suresh':30,'sathish':40}\n",
    "dict1"
   ]
  },
  {
   "cell_type": "code",
   "execution_count": 73,
   "id": "81a9371a-6e2a-453c-9da7-730d18a6d967",
   "metadata": {},
   "outputs": [
    {
     "data": {
      "text/plain": [
       "('ramesh',\n",
       " 'suresh',\n",
       " 3,\n",
       " ['ramesh', 'sathish', 'suresh'],\n",
       " ['sathish', 'suresh', 'ramesh'])"
      ]
     },
     "execution_count": 73,
     "metadata": {},
     "output_type": "execute_result"
    }
   ],
   "source": [
    "min(dict1),max(dict1),len(dict1),sorted(dict1),list(reversed(dict1))"
   ]
  },
  {
   "cell_type": "code",
   "execution_count": 75,
   "id": "ecf99742-c128-466c-938d-cf8f4f887cee",
   "metadata": {},
   "outputs": [
    {
     "data": {
      "text/plain": [
       "(20, 40, 3, [20, 30, 40], [40, 30, 20])"
      ]
     },
     "execution_count": 75,
     "metadata": {},
     "output_type": "execute_result"
    }
   ],
   "source": [
    "d2={20:'ram',30:'sur',40:'vig'}\n",
    "min(d2),max(d2),len(d2),sorted(d2),list(reversed(d2))"
   ]
  },
  {
   "cell_type": "code",
   "execution_count": 77,
   "id": "669880b0-2be7-42d7-9f02-a6c90887534f",
   "metadata": {},
   "outputs": [
    {
     "data": {
      "text/plain": [
       "('ramesh',\n",
       " 'suresh',\n",
       " 3,\n",
       " ['ramesh', 'sathis', 'suresh'],\n",
       " ['sathis', 'suresh', 'ramesh'])"
      ]
     },
     "execution_count": 77,
     "metadata": {},
     "output_type": "execute_result"
    }
   ],
   "source": [
    "d3={'ramesh':'20','suresh':'30','sathis':'40'}\n",
    "min(d3),max(d3),len(d3),sorted(d3),list(reversed(d3))"
   ]
  },
  {
   "cell_type": "code",
   "execution_count": 79,
   "id": "c4e8e16d-ea5e-43ca-9a42-52d1cc5ebaef",
   "metadata": {},
   "outputs": [
    {
     "ename": "TypeError",
     "evalue": "'>' not supported between instances of 'int' and 'str'",
     "output_type": "error",
     "traceback": [
      "\u001b[1;31m---------------------------------------------------------------------------\u001b[0m",
      "\u001b[1;31mTypeError\u001b[0m                                 Traceback (most recent call last)",
      "Cell \u001b[1;32mIn[79], line 2\u001b[0m\n\u001b[0;32m      1\u001b[0m d4\u001b[38;5;241m=\u001b[39m{\u001b[38;5;124m'\u001b[39m\u001b[38;5;124mramesh\u001b[39m\u001b[38;5;124m'\u001b[39m:\u001b[38;5;124m'\u001b[39m\u001b[38;5;124m20\u001b[39m\u001b[38;5;124m'\u001b[39m,\u001b[38;5;124m'\u001b[39m\u001b[38;5;124msuresh\u001b[39m\u001b[38;5;124m'\u001b[39m:\u001b[38;5;241m30\u001b[39m,\u001b[38;5;241m40\u001b[39m:\u001b[38;5;124m'\u001b[39m\u001b[38;5;124msathis\u001b[39m\u001b[38;5;124m'\u001b[39m}\n\u001b[1;32m----> 2\u001b[0m \u001b[38;5;28mmax\u001b[39m(d4)\n",
      "\u001b[1;31mTypeError\u001b[0m: '>' not supported between instances of 'int' and 'str'"
     ]
    }
   ],
   "source": [
    "d4={'ramesh':'20','suresh':30,40:'sathis'}\n",
    "max(d4)"
   ]
  },
  {
   "cell_type": "markdown",
   "id": "8536ac46-3591-409f-8168-d51bf9e88180",
   "metadata": {},
   "source": [
    "- max/min/sorted can work for homogeneous\n",
    "- sum is work for only numbs\n",
    "- reversed can work for all\n"
   ]
  },
  {
   "cell_type": "markdown",
   "id": "ed333b00-8133-4559-8c14-1a7cc5c4112b",
   "metadata": {},
   "source": [
    "**index**"
   ]
  },
  {
   "cell_type": "code",
   "execution_count": 81,
   "id": "af3b68c3-6fec-4503-b4fd-45fcb2a20600",
   "metadata": {},
   "outputs": [
    {
     "data": {
      "text/plain": [
       "10"
      ]
     },
     "execution_count": 81,
     "metadata": {},
     "output_type": "execute_result"
    }
   ],
   "source": [
    "l=[10,20,30]\n",
    "l[0]"
   ]
  },
  {
   "cell_type": "code",
   "execution_count": 83,
   "id": "19a9504a-c37e-4d8b-9588-09a445824951",
   "metadata": {},
   "outputs": [
    {
     "data": {
      "text/plain": [
       "'p'"
      ]
     },
     "execution_count": 83,
     "metadata": {},
     "output_type": "execute_result"
    }
   ],
   "source": [
    "s='python'\n",
    "s[0]"
   ]
  },
  {
   "cell_type": "code",
   "execution_count": 99,
   "id": "2b61663b-167e-48d2-a8a2-5dc7c20cd4b4",
   "metadata": {},
   "outputs": [
    {
     "ename": "KeyError",
     "evalue": "0",
     "output_type": "error",
     "traceback": [
      "\u001b[1;31m---------------------------------------------------------------------------\u001b[0m",
      "\u001b[1;31mKeyError\u001b[0m                                  Traceback (most recent call last)",
      "Cell \u001b[1;32mIn[99], line 2\u001b[0m\n\u001b[0;32m      1\u001b[0m d1\u001b[38;5;241m=\u001b[39m{\u001b[38;5;124m'\u001b[39m\u001b[38;5;124mramesh\u001b[39m\u001b[38;5;124m'\u001b[39m:\u001b[38;5;241m20\u001b[39m,\u001b[38;5;124m'\u001b[39m\u001b[38;5;124msuresh\u001b[39m\u001b[38;5;124m'\u001b[39m:\u001b[38;5;241m30\u001b[39m,\u001b[38;5;124m'\u001b[39m\u001b[38;5;124msathish\u001b[39m\u001b[38;5;124m'\u001b[39m:\u001b[38;5;241m40\u001b[39m}\n\u001b[1;32m----> 2\u001b[0m d1[\u001b[38;5;241m0\u001b[39m]\n",
      "\u001b[1;31mKeyError\u001b[0m: 0"
     ]
    }
   ],
   "source": [
    "d1={'ramesh':20,'suresh':30,'sathish':40}\n",
    "d1[0]\n",
    "# bec key nd value are pair \n",
    "# so we need to call the key\n",
    "# we will get the ans(val)"
   ]
  },
  {
   "cell_type": "code",
   "execution_count": 95,
   "id": "69f0ad0a-77be-4de0-81fc-0c0e72b611cc",
   "metadata": {},
   "outputs": [],
   "source": [
    "# d1['ramesh'] # 20\n",
    "# d1['suresh'] # 30\n",
    "# d1['sathish'] # 40\n",
    "# # d1[i]"
   ]
  },
  {
   "cell_type": "code",
   "execution_count": 101,
   "id": "e459bfeb-3f48-497f-8bba-6b11a66f47fd",
   "metadata": {},
   "outputs": [
    {
     "name": "stdout",
     "output_type": "stream",
     "text": [
      "ramesh 20\n",
      "ramesh has age :20\n",
      "suresh 30\n",
      "suresh has age :30\n",
      "sathish 40\n",
      "sathish has age :40\n"
     ]
    }
   ],
   "source": [
    "for i in d1:\n",
    "    print(i,d1[i])\n",
    "    print(f'{i} has age :{d1[i]}')\n"
   ]
  },
  {
   "cell_type": "markdown",
   "id": "88c7b033-1de9-4759-8f95-87fd7e8c6c09",
   "metadata": {},
   "source": [
    "- whenever we iterate  dict using for loop in op it will give keys\n",
    "- if want to get val we will access through keys only\n",
    "- key will work as index"
   ]
  },
  {
   "cell_type": "code",
   "execution_count": 103,
   "id": "41eb2b1f-5b6a-416c-b013-21c5f4e330f9",
   "metadata": {},
   "outputs": [
    {
     "data": {
      "text/plain": [
       "'cherry'"
      ]
     },
     "execution_count": 103,
     "metadata": {},
     "output_type": "execute_result"
    }
   ],
   "source": [
    "d1={'fruites':['apple','bannana','cherry']}\n",
    "d1['fruites'][2]"
   ]
  },
  {
   "cell_type": "code",
   "execution_count": 105,
   "id": "00c7677f-58ce-4446-8af6-f1e1d2a83f7d",
   "metadata": {},
   "outputs": [
    {
     "data": {
      "text/plain": [
       "'sweet'"
      ]
     },
     "execution_count": 105,
     "metadata": {},
     "output_type": "execute_result"
    }
   ],
   "source": [
    "d1={'fruites':{'apple':['sweet','green','cust']}}\n",
    "d1['fruites']['apple'][0]"
   ]
  },
  {
   "cell_type": "code",
   "execution_count": 107,
   "id": "c5b56f74-90a0-4101-9fb0-a85769b55d39",
   "metadata": {},
   "outputs": [
    {
     "data": {
      "text/plain": [
       "200"
      ]
     },
     "execution_count": 107,
     "metadata": {},
     "output_type": "execute_result"
    }
   ],
   "source": [
    "d1={'fruites':[{'cost':[100,200,300]}]}\n",
    "d1['fruites'][0]['cost'][1]"
   ]
  },
  {
   "cell_type": "code",
   "execution_count": 109,
   "id": "95fc6e3d-f018-49bb-8826-72c40563d0c5",
   "metadata": {},
   "outputs": [
    {
     "data": {
      "text/plain": [
       "'None'"
      ]
     },
     "execution_count": 109,
     "metadata": {},
     "output_type": "execute_result"
    }
   ],
   "source": [
    "d1={'Fruites':['Apple'],'Cost':[{'1kg':[300,500],'2kg':['None']}]}\n",
    "d1['Cost'][0]['2kg'][0]"
   ]
  },
  {
   "cell_type": "code",
   "execution_count": 111,
   "id": "e4575dcf-9d54-4891-9109-79bc9155d86d",
   "metadata": {},
   "outputs": [
    {
     "data": {
      "text/plain": [
       "{'Shambaji'}"
      ]
     },
     "execution_count": 111,
     "metadata": {},
     "output_type": "execute_result"
    }
   ],
   "source": [
    "d1={'Fruites':{'Mango':{'Nagpur':{'MH':{'King':{'Shivaji':{'Shambaji'}}}}}}}\n",
    "d1['Fruites']['Mango']['Nagpur']['MH']['King']['Shivaji']"
   ]
  },
  {
   "cell_type": "code",
   "execution_count": 113,
   "id": "928cd9f8-ff8d-4d71-ada2-e62306129953",
   "metadata": {},
   "outputs": [
    {
     "data": {
      "text/plain": [
       "['__class__',\n",
       " '__class_getitem__',\n",
       " '__contains__',\n",
       " '__delattr__',\n",
       " '__delitem__',\n",
       " '__dir__',\n",
       " '__doc__',\n",
       " '__eq__',\n",
       " '__format__',\n",
       " '__ge__',\n",
       " '__getattribute__',\n",
       " '__getitem__',\n",
       " '__getstate__',\n",
       " '__gt__',\n",
       " '__hash__',\n",
       " '__init__',\n",
       " '__init_subclass__',\n",
       " '__ior__',\n",
       " '__iter__',\n",
       " '__le__',\n",
       " '__len__',\n",
       " '__lt__',\n",
       " '__ne__',\n",
       " '__new__',\n",
       " '__or__',\n",
       " '__reduce__',\n",
       " '__reduce_ex__',\n",
       " '__repr__',\n",
       " '__reversed__',\n",
       " '__ror__',\n",
       " '__setattr__',\n",
       " '__setitem__',\n",
       " '__sizeof__',\n",
       " '__str__',\n",
       " '__subclasshook__',\n",
       " 'clear',\n",
       " 'copy',\n",
       " 'fromkeys',\n",
       " 'get',\n",
       " 'items',\n",
       " 'keys',\n",
       " 'pop',\n",
       " 'popitem',\n",
       " 'setdefault',\n",
       " 'update',\n",
       " 'values']"
      ]
     },
     "execution_count": 113,
     "metadata": {},
     "output_type": "execute_result"
    }
   ],
   "source": [
    "dir({ })"
   ]
  },
  {
   "cell_type": "markdown",
   "id": "20b3ed39-f8c7-4842-a937-101a36319977",
   "metadata": {},
   "source": [
    "**how to covert list to dict**"
   ]
  },
  {
   "cell_type": "code",
   "execution_count": 115,
   "id": "9997ad8a-bd68-4cf1-abdd-2f9418afefc3",
   "metadata": {},
   "outputs": [
    {
     "name": "stdout",
     "output_type": "stream",
     "text": [
      "ramesh 20\n",
      "suresh 30\n",
      "sathi 40\n"
     ]
    }
   ],
   "source": [
    "names=['ramesh','suresh','sathi']\n",
    "age=[20,30,40]\n",
    "# create dic {ram:20,\"\":30,'':}\n",
    "d1={}\n",
    "for i,j in zip(names,age):\n",
    "    print(i,j)"
   ]
  },
  {
   "cell_type": "code",
   "execution_count": 117,
   "id": "2545f258-4029-4f21-9a12-4e62eb83b461",
   "metadata": {},
   "outputs": [
    {
     "data": {
      "text/plain": [
       "{'ramesh': 20, 'suresh': 30, 'sathish': 40}"
      ]
     },
     "execution_count": 117,
     "metadata": {},
     "output_type": "execute_result"
    }
   ],
   "source": [
    "names=['ramesh','suresh','sathish']\n",
    "age=[20,30,40]\n",
    "d1['ramesh']=20\n",
    "d1['suresh']=30\n",
    "d1['sathish']=40\n",
    "d1\n",
    "\n",
    "# d1[i]=j"
   ]
  },
  {
   "cell_type": "code",
   "execution_count": 119,
   "id": "b072b245-a53d-4f4d-83f9-4071417ca69c",
   "metadata": {},
   "outputs": [
    {
     "data": {
      "text/plain": [
       "{'ramesh': 20, 'suresh': 30, 'sathish': 40}"
      ]
     },
     "execution_count": 119,
     "metadata": {},
     "output_type": "execute_result"
    }
   ],
   "source": [
    "d1={}\n",
    "for i,j in zip(names,age):\n",
    "    d1[i]=j\n",
    "d1"
   ]
  },
  {
   "cell_type": "code",
   "execution_count": null,
   "id": "282f84cc-51dc-4c50-af5e-4e08083148f6",
   "metadata": {},
   "outputs": [],
   "source": [
    "# str to list(split)\n",
    "# listto string(join)\n",
    "# list to dict()\n",
    "# dict to list"
   ]
  },
  {
   "cell_type": "markdown",
   "id": "3caa1db5-ba71-4a74-80e3-2212aa032562",
   "metadata": {},
   "source": [
    "**how to covert dict to list**"
   ]
  },
  {
   "cell_type": "code",
   "execution_count": 121,
   "id": "cbad3d56-e731-43ef-a3f2-9f1b313cb14d",
   "metadata": {},
   "outputs": [
    {
     "data": {
      "text/plain": [
       "(dict_keys(['ramesh', 'suresh', 'sathish']), dict_values([20, 30, 40]))"
      ]
     },
     "execution_count": 121,
     "metadata": {},
     "output_type": "execute_result"
    }
   ],
   "source": [
    "dict={'ramesh': 20, 'suresh': 30, 'sathish': 40}\n",
    "dict.keys(),dict.values()\n",
    "\n"
   ]
  },
  {
   "cell_type": "code",
   "execution_count": 123,
   "id": "8b30c898-8124-49fe-be70-f7c56ce75982",
   "metadata": {},
   "outputs": [
    {
     "data": {
      "text/plain": [
       "(['ramesh', 'suresh', 'sathish'], [20, 30, 40])"
      ]
     },
     "execution_count": 123,
     "metadata": {},
     "output_type": "execute_result"
    }
   ],
   "source": [
    "keys=[]\n",
    "values=[]\n",
    "for i in dict:\n",
    "  keys.append(i)\n",
    "  values.append(dict[i])\n",
    "keys,values"
   ]
  },
  {
   "cell_type": "code",
   "execution_count": 125,
   "id": "3bc7ecb4-efca-402e-bf18-a688ab9501a5",
   "metadata": {},
   "outputs": [
    {
     "data": {
      "text/plain": [
       "[0, 1, 2, 3, 4, 5, 6, 7, 8, 9]"
      ]
     },
     "execution_count": 125,
     "metadata": {},
     "output_type": "execute_result"
    }
   ],
   "source": [
    "l=[i for i in range(10)]\n",
    "l"
   ]
  },
  {
   "cell_type": "markdown",
   "id": "ea0172f0-5451-40e0-8e06-5a0aea6e6a77",
   "metadata": {},
   "source": [
    "**dictionary comprehension**"
   ]
  },
  {
   "cell_type": "code",
   "execution_count": 127,
   "id": "78e337bd-5f10-4a9d-a8cc-d31b990c166b",
   "metadata": {},
   "outputs": [
    {
     "data": {
      "text/plain": [
       "['ramesh', 'suresh', 'sathish']"
      ]
     },
     "execution_count": 127,
     "metadata": {},
     "output_type": "execute_result"
    }
   ],
   "source": [
    "keys=[i for i in dict]\n",
    "keys"
   ]
  },
  {
   "cell_type": "code",
   "execution_count": 129,
   "id": "f102af81-5ddb-4b75-9839-1c7b7968475e",
   "metadata": {},
   "outputs": [
    {
     "data": {
      "text/plain": [
       "[20, 30, 40]"
      ]
     },
     "execution_count": 129,
     "metadata": {},
     "output_type": "execute_result"
    }
   ],
   "source": [
    "values=[dict[i] for i in dict]\n",
    "values"
   ]
  },
  {
   "cell_type": "code",
   "execution_count": 131,
   "id": "66c11514-eba3-415d-8ac2-23095a872887",
   "metadata": {},
   "outputs": [
    {
     "data": {
      "text/plain": [
       "{'ramesh': 20, 'suresh': 30, 'sathish': 40}"
      ]
     },
     "execution_count": 131,
     "metadata": {},
     "output_type": "execute_result"
    }
   ],
   "source": [
    "names=['ramesh','suresh','sathish']\n",
    "age=[20,30,40]\n",
    "d1={}\n",
    "for i,j in zip(names,age):\n",
    "    d1[i]=j\n",
    "d1"
   ]
  },
  {
   "cell_type": "code",
   "execution_count": 133,
   "id": "7f6e1995-2df3-4e6b-8e81-d5ed86593162",
   "metadata": {},
   "outputs": [
    {
     "data": {
      "text/plain": [
       "{'ramesh': 20, 'suresh': 30, 'sathish': 40}"
      ]
     },
     "execution_count": 133,
     "metadata": {},
     "output_type": "execute_result"
    }
   ],
   "source": [
    "{i:j for i,j in zip(names,age)}"
   ]
  },
  {
   "cell_type": "markdown",
   "id": "d29474f8-fd92-4d4a-bb32-2d157d3d7a71",
   "metadata": {},
   "source": [
    "**mutable-immutable**\n",
    "- list are mutable\n",
    "- string are immutable\n",
    "- tuple are immutable\n",
    "- dict also mutable we can modify the val of dictnry"
   ]
  },
  {
   "cell_type": "code",
   "execution_count": 135,
   "id": "c8af772e-5214-4b16-98bb-9d1dcbdc1202",
   "metadata": {},
   "outputs": [
    {
     "data": {
      "text/plain": [
       "{'ramesh': 40, 'suresh': 30, 'sathish': 40}"
      ]
     },
     "execution_count": 135,
     "metadata": {},
     "output_type": "execute_result"
    }
   ],
   "source": [
    "d={'ramesh':20, 'suresh': 30, 'sathish': 40}\n",
    "d['ramesh']=40\n",
    "d"
   ]
  },
  {
   "cell_type": "markdown",
   "id": "2d2961e0-7469-4f45-b48f-ff3e3fa24193",
   "metadata": {},
   "source": [
    "- dict is similar to dbase opens\n",
    "- keys always unique but values can be change"
   ]
  },
  {
   "cell_type": "markdown",
   "id": "a93b24b6-14eb-43c0-aafc-96f9b5e0c6ba",
   "metadata": {},
   "source": [
    "**concatenation**"
   ]
  },
  {
   "cell_type": "code",
   "execution_count": 137,
   "id": "d28656c1-e36e-4cf8-aa59-a3044e3e9746",
   "metadata": {},
   "outputs": [
    {
     "ename": "TypeError",
     "evalue": "unsupported operand type(s) for +: 'dict' and 'dict'",
     "output_type": "error",
     "traceback": [
      "\u001b[1;31m---------------------------------------------------------------------------\u001b[0m",
      "\u001b[1;31mTypeError\u001b[0m                                 Traceback (most recent call last)",
      "Cell \u001b[1;32mIn[137], line 3\u001b[0m\n\u001b[0;32m      1\u001b[0m d1\u001b[38;5;241m=\u001b[39m{\u001b[38;5;124m'\u001b[39m\u001b[38;5;124mramesh\u001b[39m\u001b[38;5;124m'\u001b[39m:\u001b[38;5;241m20\u001b[39m}\n\u001b[0;32m      2\u001b[0m d2\u001b[38;5;241m=\u001b[39m{\u001b[38;5;124m'\u001b[39m\u001b[38;5;124mfruite\u001b[39m\u001b[38;5;124m'\u001b[39m:\u001b[38;5;124m'\u001b[39m\u001b[38;5;124mapple\u001b[39m\u001b[38;5;124m'\u001b[39m}\n\u001b[1;32m----> 3\u001b[0m d1\u001b[38;5;241m+\u001b[39md2\n",
      "\u001b[1;31mTypeError\u001b[0m: unsupported operand type(s) for +: 'dict' and 'dict'"
     ]
    }
   ],
   "source": [
    "d1={'ramesh':20}\n",
    "d2={'fruite':'apple'}\n",
    "d1+d2"
   ]
  },
  {
   "cell_type": "markdown",
   "id": "3ac6efc5-0e89-4874-ba5b-a79d81ab2039",
   "metadata": {},
   "source": [
    "**methods**"
   ]
  },
  {
   "cell_type": "markdown",
   "id": "e103a5e5-075c-4dab-ae41-bcd7a43e8764",
   "metadata": {},
   "source": [
    "**items-values-keys**"
   ]
  },
  {
   "cell_type": "code",
   "execution_count": 139,
   "id": "be8cd549-6f86-461a-958e-cbac8238cc97",
   "metadata": {},
   "outputs": [
    {
     "data": {
      "text/plain": [
       "dict_items([('ramesh', 40), ('suresh', 30), ('sathish', 40)])"
      ]
     },
     "execution_count": 139,
     "metadata": {},
     "output_type": "execute_result"
    }
   ],
   "source": [
    "d={'ramesh': 40, 'suresh': 30, 'sathish': 40}\n",
    "d.items()"
   ]
  },
  {
   "cell_type": "code",
   "execution_count": 141,
   "id": "a9d29242-af10-467c-88b3-cdf26f4cf8f3",
   "metadata": {},
   "outputs": [
    {
     "data": {
      "text/plain": [
       "dict_keys(['ramesh', 'suresh', 'sathish'])"
      ]
     },
     "execution_count": 141,
     "metadata": {},
     "output_type": "execute_result"
    }
   ],
   "source": [
    "d={'ramesh': 40, 'suresh': 30, 'sathish': 40}\n",
    "d.keys()"
   ]
  },
  {
   "cell_type": "code",
   "execution_count": 143,
   "id": "3be124d8-d498-4d31-b01b-0d7747bdf5b9",
   "metadata": {},
   "outputs": [
    {
     "data": {
      "text/plain": [
       "dict_values([40, 30, 40])"
      ]
     },
     "execution_count": 143,
     "metadata": {},
     "output_type": "execute_result"
    }
   ],
   "source": [
    "d={'ramesh': 40, 'suresh': 30, 'sathish': 40}\n",
    "d.values()"
   ]
  },
  {
   "cell_type": "code",
   "execution_count": 145,
   "id": "a3ea2125-8327-48bd-8ef6-09d8191559ae",
   "metadata": {},
   "outputs": [
    {
     "data": {
      "text/plain": [
       "(dict_keys, dict_keys(['ramesh', 'suresh', 'sathish']))"
      ]
     },
     "execution_count": 145,
     "metadata": {},
     "output_type": "execute_result"
    }
   ],
   "source": [
    "d={'ramesh': 40, 'suresh': 30, 'sathish': 40}\n",
    "keys=d.keys()\n",
    "type(keys),keys"
   ]
  },
  {
   "cell_type": "code",
   "execution_count": 147,
   "id": "f8ee09a0-114e-4946-abfb-f823ff8d1e05",
   "metadata": {},
   "outputs": [
    {
     "data": {
      "text/plain": [
       "3"
      ]
     },
     "execution_count": 147,
     "metadata": {},
     "output_type": "execute_result"
    }
   ],
   "source": [
    "len(keys)"
   ]
  },
  {
   "cell_type": "code",
   "execution_count": 153,
   "id": "3ddb0473-e5b7-4164-a9c0-8cfa8e744028",
   "metadata": {},
   "outputs": [
    {
     "ename": "TypeError",
     "evalue": "'dict_keys' object is not subscriptable",
     "output_type": "error",
     "traceback": [
      "\u001b[1;31m---------------------------------------------------------------------------\u001b[0m",
      "\u001b[1;31mTypeError\u001b[0m                                 Traceback (most recent call last)",
      "Cell \u001b[1;32mIn[153], line 1\u001b[0m\n\u001b[1;32m----> 1\u001b[0m keys[\u001b[38;5;241m0\u001b[39m]\n",
      "\u001b[1;31mTypeError\u001b[0m: 'dict_keys' object is not subscriptable"
     ]
    }
   ],
   "source": [
    "keys[0]"
   ]
  },
  {
   "cell_type": "markdown",
   "id": "38a4df5e-920f-4cf2-b665-3aafcff92d35",
   "metadata": {},
   "source": [
    "- dict_keys is a type of keys represented in a list\n",
    "- it look like list but not list\n",
    "- we cannot use list methods here\n",
    "- for that we need to covert dict_keys to list"
   ]
  },
  {
   "cell_type": "code",
   "execution_count": 149,
   "id": "cdba087f-6a61-453d-8524-ffc332e22e4d",
   "metadata": {},
   "outputs": [
    {
     "data": {
      "text/plain": [
       "['ramesh', 'suresh', 'sathish']"
      ]
     },
     "execution_count": 149,
     "metadata": {},
     "output_type": "execute_result"
    }
   ],
   "source": [
    "d5={'ramesh': 20, 'suresh': 30, 'sathish': 40}\n",
    "keys=d5.keys()\n",
    "list(keys)"
   ]
  },
  {
   "cell_type": "code",
   "execution_count": 151,
   "id": "761a6d3d-f29f-46ca-ac12-951ba280109d",
   "metadata": {},
   "outputs": [
    {
     "name": "stdout",
     "output_type": "stream",
     "text": [
      "[20, 30, 40]\n"
     ]
    }
   ],
   "source": [
    "d5={'ramesh': 20, 'suresh': 30, 'sathish': 40}\n",
    "values=d5.values()\n",
    "print(list(values))"
   ]
  },
  {
   "cell_type": "code",
   "execution_count": 22,
   "id": "aba0b347-1ff2-4fd2-b6d7-72ddb8edfd7f",
   "metadata": {},
   "outputs": [],
   "source": [
    "d={'ramesh': 20, 'suresh': 30, 'sathish': 40}\n",
    "keys=[]\n",
    "values=[]\n",
    "for i in d:\n",
    "    keys.append(i)\n",
    "    values.append(d[i])\n",
    "keys,values\n",
    "###############list comp ##################################\n",
    "keys=[i for i in d ]\n",
    "values=[d[i] for i in d]"
   ]
  },
  {
   "cell_type": "markdown",
   "id": "f0db3bf7-3bb3-4138-9d8f-6ac069c7bbe4",
   "metadata": {},
   "source": [
    "**for this methods are keys,values,items**"
   ]
  },
  {
   "cell_type": "code",
   "execution_count": 24,
   "id": "f3939e4b-4fad-45e8-afbe-4c84ce50328d",
   "metadata": {},
   "outputs": [
    {
     "data": {
      "text/plain": [
       "(['ramesh', 'suresh', 'sathish'], [20, 30, 40])"
      ]
     },
     "execution_count": 24,
     "metadata": {},
     "output_type": "execute_result"
    }
   ],
   "source": [
    "keys=list(d.keys())\n",
    "values=list(d.values())\n",
    "keys,values"
   ]
  },
  {
   "cell_type": "code",
   "execution_count": 74,
   "id": "12610e9e-e885-4c2c-8db7-fd550ebf770f",
   "metadata": {},
   "outputs": [
    {
     "data": {
      "text/plain": [
       "{'ramesh': '20', 'suresh': '30', 'sathish': '40'}"
      ]
     },
     "execution_count": 74,
     "metadata": {},
     "output_type": "execute_result"
    }
   ],
   "source": [
    "d={'Ramesh': 20,'Suresh': 30,'Sathish': 40}\n",
    "keys=[i.lower() for i in list(d.keys())]\n",
    "values=[str(i) for i in list(d.values())]\n",
    "{keys:values for keys,values in zip(keys,values)}"
   ]
  },
  {
   "cell_type": "markdown",
   "id": "6b17de52-b00f-4dbe-9cfa-cd0de9abfb4c",
   "metadata": {},
   "source": [
    "**get**"
   ]
  },
  {
   "cell_type": "code",
   "execution_count": 79,
   "id": "72969b82-e166-466a-8be1-f753c4988aab",
   "metadata": {},
   "outputs": [
    {
     "data": {
      "text/plain": [
       "20"
      ]
     },
     "execution_count": 79,
     "metadata": {},
     "output_type": "execute_result"
    }
   ],
   "source": [
    "d={'Ramesh': 20,'Suresh': 30,'Sathish': 40}\n",
    "d.get('Ramesh')"
   ]
  },
  {
   "cell_type": "code",
   "execution_count": 93,
   "id": "3259470e-d372-4187-a998-cad0d92051db",
   "metadata": {},
   "outputs": [],
   "source": [
    "d.get('ram') # no error no ans"
   ]
  },
  {
   "cell_type": "code",
   "execution_count": 87,
   "id": "8a656656-7a46-4e00-b867-272ebb77dcd3",
   "metadata": {},
   "outputs": [
    {
     "data": {
      "text/plain": [
       "20"
      ]
     },
     "execution_count": 87,
     "metadata": {},
     "output_type": "execute_result"
    }
   ],
   "source": [
    "d['Ramesh'] # norml way"
   ]
  },
  {
   "cell_type": "code",
   "execution_count": 89,
   "id": "24013b05-ea2c-44d4-927f-f5d9d9c8caa3",
   "metadata": {},
   "outputs": [
    {
     "ename": "KeyError",
     "evalue": "'ram'",
     "output_type": "error",
     "traceback": [
      "\u001b[1;31m---------------------------------------------------------------------------\u001b[0m",
      "\u001b[1;31mKeyError\u001b[0m                                  Traceback (most recent call last)",
      "Cell \u001b[1;32mIn[89], line 1\u001b[0m\n\u001b[1;32m----> 1\u001b[0m d[\u001b[38;5;124m'\u001b[39m\u001b[38;5;124mram\u001b[39m\u001b[38;5;124m'\u001b[39m]\n",
      "\u001b[1;31mKeyError\u001b[0m: 'ram'"
     ]
    }
   ],
   "source": [
    "d['ram'] # error"
   ]
  },
  {
   "cell_type": "markdown",
   "id": "76e7c9e8-66cd-48e4-b60f-675bd1fee7ba",
   "metadata": {},
   "source": [
    "**update**"
   ]
  },
  {
   "cell_type": "code",
   "execution_count": 104,
   "id": "95138291-681c-4f0c-85a5-e7739b04fd97",
   "metadata": {},
   "outputs": [
    {
     "data": {
      "text/plain": [
       "{'Ramesh': 20, 'Suresh': 30, 'Sathish': 40, 'fruites': 'apple'}"
      ]
     },
     "execution_count": 104,
     "metadata": {},
     "output_type": "execute_result"
    }
   ],
   "source": [
    "d={'Ramesh': 20,'Suresh': 30,'Sathish': 40}\n",
    "d1={'fruites':'apple'}\n",
    "d.update(d1)\n",
    "d\n"
   ]
  },
  {
   "cell_type": "code",
   "execution_count": 118,
   "id": "ce14b399-cf18-405b-99ab-022f6aa3a5e6",
   "metadata": {},
   "outputs": [
    {
     "ename": "SyntaxError",
     "evalue": "expression cannot contain assignment, perhaps you meant \"==\"? (80067695.py, line 1)",
     "output_type": "error",
     "traceback": [
      "\u001b[1;36m  Cell \u001b[1;32mIn[118], line 1\u001b[1;36m\u001b[0m\n\u001b[1;33m    d.update('apple'=200)\u001b[0m\n\u001b[1;37m             ^\u001b[0m\n\u001b[1;31mSyntaxError\u001b[0m\u001b[1;31m:\u001b[0m expression cannot contain assignment, perhaps you meant \"==\"?\n"
     ]
    }
   ],
   "source": [
    "d.update('apple'=200)\n",
    "d"
   ]
  },
  {
   "cell_type": "code",
   "execution_count": 120,
   "id": "3a2f7aa7-4241-44bf-b5c2-83d0d1e5c6e2",
   "metadata": {},
   "outputs": [
    {
     "data": {
      "text/plain": [
       "{'Ramesh': 20, 'Suresh': 30, 'Sathish': 40, 'fruites': 'apple', 'apple': 200}"
      ]
     },
     "execution_count": 120,
     "metadata": {},
     "output_type": "execute_result"
    }
   ],
   "source": [
    "d.update(apple=200)\n",
    "d"
   ]
  },
  {
   "cell_type": "code",
   "execution_count": 126,
   "id": "514f259e-8fb1-4783-9412-7cb63071ac64",
   "metadata": {},
   "outputs": [
    {
     "data": {
      "text/plain": [
       "{'Ramesh': 20,\n",
       " 'Suresh': 30,\n",
       " 'Sathish': 40,\n",
       " 'fruites': 'apple',\n",
       " 'apple': 200,\n",
       " 200: 'marks'}"
      ]
     },
     "execution_count": 126,
     "metadata": {},
     "output_type": "execute_result"
    }
   ],
   "source": [
    "d.update([(200,'marks')])\n",
    "d"
   ]
  },
  {
   "cell_type": "code",
   "execution_count": 128,
   "id": "90d4a345-fcc7-4cc6-821a-21bdf9412570",
   "metadata": {},
   "outputs": [
    {
     "data": {
      "text/plain": [
       "{'Ramesh': 20,\n",
       " 'Suresh': 30,\n",
       " 'Sathish': 40,\n",
       " 'fruites': 'apple',\n",
       " 'apple': 200,\n",
       " 200: 'marks'}"
      ]
     },
     "execution_count": 128,
     "metadata": {},
     "output_type": "execute_result"
    }
   ],
   "source": [
    "t=(200,'marks')\n",
    "l=[t]\n",
    "d.update(l)\n",
    "d"
   ]
  },
  {
   "cell_type": "markdown",
   "id": "394e4b9b-4073-4d4d-809f-ef88c21cec24",
   "metadata": {},
   "source": [
    "- concatenate of 2 dictnry fails\n",
    "- but we can combine 2 dictnrys using update method"
   ]
  },
  {
   "cell_type": "markdown",
   "id": "09bad211-6a33-4553-a920-c7fdb5339c6b",
   "metadata": {},
   "source": [
    "- 3:-ways\n",
    "- d.update(d1):direct method\n",
    "- d.update(apple=200):by assigning val\n",
    "- d.update([(200,'marks')]):list in tuple\n"
   ]
  },
  {
   "cell_type": "markdown",
   "id": "0300d25d-9d8c-47c9-8965-8cbdf48d548d",
   "metadata": {},
   "source": [
    "**pop-popitem**"
   ]
  },
  {
   "cell_type": "code",
   "execution_count": 141,
   "id": "b52e7062-410a-426c-8ee4-eec1c3586b64",
   "metadata": {},
   "outputs": [
    {
     "data": {
      "text/plain": [
       "20"
      ]
     },
     "execution_count": 141,
     "metadata": {},
     "output_type": "execute_result"
    }
   ],
   "source": [
    "d={'Ramesh': 20,'Suresh': 30,'Sathish': 40}\n",
    "d.pop('Ramesh')\n",
    "# it is expecting key"
   ]
  },
  {
   "cell_type": "code",
   "execution_count": 139,
   "id": "2309b292-0bf1-4fc2-937a-54ae0534d370",
   "metadata": {},
   "outputs": [
    {
     "data": {
      "text/plain": [
       "{'Suresh': 30, 'Sathish': 40}"
      ]
     },
     "execution_count": 139,
     "metadata": {},
     "output_type": "execute_result"
    }
   ],
   "source": [
    "d"
   ]
  },
  {
   "cell_type": "code",
   "execution_count": 143,
   "id": "984970e7-0344-4213-b260-48cf4c847f2f",
   "metadata": {},
   "outputs": [
    {
     "data": {
      "text/plain": [
       "300"
      ]
     },
     "execution_count": 143,
     "metadata": {},
     "output_type": "execute_result"
    }
   ],
   "source": [
    "#in list it expecting index\n",
    "l=[100,200,300,400]\n",
    "l.pop(2)\n"
   ]
  },
  {
   "cell_type": "code",
   "execution_count": 145,
   "id": "7154b2a0-3f13-4419-8a0e-00b58635a5c2",
   "metadata": {},
   "outputs": [
    {
     "data": {
      "text/plain": [
       "('Sathish', 40)"
      ]
     },
     "execution_count": 145,
     "metadata": {},
     "output_type": "execute_result"
    }
   ],
   "source": [
    "d={'Ramesh': 20,'Suresh': 30,'Sathish': 40}\n",
    "d.popitem()"
   ]
  },
  {
   "cell_type": "markdown",
   "id": "e113e64d-bf07-4633-b09a-28ba5e57e21d",
   "metadata": {},
   "source": [
    "- pop will expect a key,correspdng val will be removed\n",
    "   - pop will return the **val which is removing**\n",
    "- pop item has no argmnts,last key-val pair will be removed\n",
    "   - pop item return last key-val pair"
   ]
  },
  {
   "cell_type": "markdown",
   "id": "6a013f6a-786e-4231-ab31-6fbd57b0dfa8",
   "metadata": {},
   "source": [
    "**del**"
   ]
  },
  {
   "cell_type": "code",
   "execution_count": 156,
   "id": "e70420c1-cbfb-4a77-8784-046ca489d514",
   "metadata": {},
   "outputs": [
    {
     "data": {
      "text/plain": [
       "[200, 300, 444]"
      ]
     },
     "execution_count": 156,
     "metadata": {},
     "output_type": "execute_result"
    }
   ],
   "source": [
    "l=[100,200,300,444]\n",
    "del l[0]\n",
    "l"
   ]
  },
  {
   "cell_type": "code",
   "execution_count": 160,
   "id": "7a4f33a6-da56-4a99-86e2-1292d2180b7b",
   "metadata": {},
   "outputs": [
    {
     "ename": "NameError",
     "evalue": "name 'l' is not defined",
     "output_type": "error",
     "traceback": [
      "\u001b[1;31m---------------------------------------------------------------------------\u001b[0m",
      "\u001b[1;31mNameError\u001b[0m                                 Traceback (most recent call last)",
      "Cell \u001b[1;32mIn[160], line 3\u001b[0m\n\u001b[0;32m      1\u001b[0m l\u001b[38;5;241m=\u001b[39m[\u001b[38;5;241m100\u001b[39m,\u001b[38;5;241m200\u001b[39m,\u001b[38;5;241m300\u001b[39m,\u001b[38;5;241m444\u001b[39m]\n\u001b[0;32m      2\u001b[0m \u001b[38;5;28;01mdel\u001b[39;00m l \u001b[38;5;66;03m# total l is gone here\u001b[39;00m\n\u001b[1;32m----> 3\u001b[0m l\n",
      "\u001b[1;31mNameError\u001b[0m: name 'l' is not defined"
     ]
    }
   ],
   "source": [
    "l=[100,200,300,444]\n",
    "del l # total l is gone here\n",
    "l"
   ]
  },
  {
   "cell_type": "code",
   "execution_count": 168,
   "id": "b42b796c-2d99-4d37-94c3-a1a6444b298c",
   "metadata": {},
   "outputs": [
    {
     "data": {
      "text/plain": [
       "{'Suresh': 30, 'Sathish': 40}"
      ]
     },
     "execution_count": 168,
     "metadata": {},
     "output_type": "execute_result"
    }
   ],
   "source": [
    "d={'Ramesh': 20,'Suresh': 30,'Sathish': 40}\n",
    "del d['Ramesh']\n",
    "d"
   ]
  },
  {
   "cell_type": "code",
   "execution_count": 172,
   "id": "7fb9de54-40f9-46af-906c-eb4d863ff36e",
   "metadata": {},
   "outputs": [
    {
     "ename": "NameError",
     "evalue": "name 'd' is not defined",
     "output_type": "error",
     "traceback": [
      "\u001b[1;31m---------------------------------------------------------------------------\u001b[0m",
      "\u001b[1;31mNameError\u001b[0m                                 Traceback (most recent call last)",
      "Cell \u001b[1;32mIn[172], line 3\u001b[0m\n\u001b[0;32m      1\u001b[0m d\u001b[38;5;241m=\u001b[39m{\u001b[38;5;124m'\u001b[39m\u001b[38;5;124mRamesh\u001b[39m\u001b[38;5;124m'\u001b[39m: \u001b[38;5;241m20\u001b[39m,\u001b[38;5;124m'\u001b[39m\u001b[38;5;124mSuresh\u001b[39m\u001b[38;5;124m'\u001b[39m: \u001b[38;5;241m30\u001b[39m,\u001b[38;5;124m'\u001b[39m\u001b[38;5;124mSathish\u001b[39m\u001b[38;5;124m'\u001b[39m: \u001b[38;5;241m40\u001b[39m}\n\u001b[0;32m      2\u001b[0m \u001b[38;5;28;01mdel\u001b[39;00m d \u001b[38;5;66;03m# gone here\u001b[39;00m\n\u001b[1;32m----> 3\u001b[0m d\n",
      "\u001b[1;31mNameError\u001b[0m: name 'd' is not defined"
     ]
    }
   ],
   "source": [
    "d={'Ramesh': 20,'Suresh': 30,'Sathish': 40}\n",
    "del d # gone here\n",
    "d"
   ]
  },
  {
   "cell_type": "code",
   "execution_count": 174,
   "id": "859aceb1-8272-41db-bb09-757b22d5f622",
   "metadata": {},
   "outputs": [
    {
     "ename": "NameError",
     "evalue": "name 'd' is not defined",
     "output_type": "error",
     "traceback": [
      "\u001b[1;31m---------------------------------------------------------------------------\u001b[0m",
      "\u001b[1;31mNameError\u001b[0m                                 Traceback (most recent call last)",
      "Cell \u001b[1;32mIn[174], line 3\u001b[0m\n\u001b[0;32m      1\u001b[0m d\u001b[38;5;241m=\u001b[39m{\u001b[38;5;124m'\u001b[39m\u001b[38;5;124mRamesh\u001b[39m\u001b[38;5;124m'\u001b[39m: \u001b[38;5;241m20\u001b[39m,\u001b[38;5;124m'\u001b[39m\u001b[38;5;124mSuresh\u001b[39m\u001b[38;5;124m'\u001b[39m: \u001b[38;5;241m30\u001b[39m,\u001b[38;5;124m'\u001b[39m\u001b[38;5;124mSathish\u001b[39m\u001b[38;5;124m'\u001b[39m: \u001b[38;5;241m40\u001b[39m}\n\u001b[0;32m      2\u001b[0m \u001b[38;5;28;01mdel\u001b[39;00m (d) \u001b[38;5;66;03m# gone here\u001b[39;00m\n\u001b[1;32m----> 3\u001b[0m d\n",
      "\u001b[1;31mNameError\u001b[0m: name 'd' is not defined"
     ]
    }
   ],
   "source": [
    "d={'Ramesh': 20,'Suresh': 30,'Sathish': 40}\n",
    "del (d) # gone here\n",
    "d"
   ]
  },
  {
   "cell_type": "code",
   "execution_count": null,
   "id": "08e9efbb-27be-48ee-8359-2ab3801b00e3",
   "metadata": {},
   "outputs": [],
   "source": []
  }
 ],
 "metadata": {
  "kernelspec": {
   "display_name": "Python 3 (ipykernel)",
   "language": "python",
   "name": "python3"
  },
  "language_info": {
   "codemirror_mode": {
    "name": "ipython",
    "version": 3
   },
   "file_extension": ".py",
   "mimetype": "text/x-python",
   "name": "python",
   "nbconvert_exporter": "python",
   "pygments_lexer": "ipython3",
   "version": "3.12.4"
  }
 },
 "nbformat": 4,
 "nbformat_minor": 5
}
